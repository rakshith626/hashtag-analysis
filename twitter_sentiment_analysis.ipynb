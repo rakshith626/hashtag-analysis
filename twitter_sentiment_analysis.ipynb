{
  "nbformat": 4,
  "nbformat_minor": 0,
  "metadata": {
    "colab": {
      "name": "twitter sentiment analysis-sem 6.ipynb",
      "version": "0.3.2",
      "provenance": [],
      "include_colab_link": true
    },
    "language_info": {
      "codemirror_mode": {
        "name": "ipython",
        "version": 3
      },
      "file_extension": ".py",
      "mimetype": "text/x-python",
      "name": "python",
      "nbconvert_exporter": "python",
      "pygments_lexer": "ipython3",
      "version": "3.6.5"
    },
    "kernelspec": {
      "display_name": "Python 3",
      "language": "python",
      "name": "python3"
    }
  },
  "cells": [
    {
      "cell_type": "markdown",
      "metadata": {
        "id": "view-in-github",
        "colab_type": "text"
      },
      "source": [
        "<a href=\"https://colab.research.google.com/github/rakshith626/hashtag-analysis/blob/master/twitter_sentiment_analysis.ipynb\" target=\"_parent\"><img src=\"https://colab.research.google.com/assets/colab-badge.svg\" alt=\"Open In Colab\"/></a>"
      ]
    },
    {
      "cell_type": "code",
      "metadata": {
        "id": "RK7BAdFKzODV",
        "colab_type": "code",
        "colab": {}
      },
      "source": [
        "import sys,tweepy,csv,re\n",
        "from textblob import TextBlob\n",
        "import matplotlib.pyplot as plt\n"
      ],
      "execution_count": 0,
      "outputs": []
    },
    {
      "cell_type": "code",
      "metadata": {
        "id": "fD8a9DTazODZ",
        "colab_type": "code",
        "colab": {}
      },
      "source": [
        "class SentimentAnalysis:\n",
        "    def __init__(self):\n",
        "        self.tweets = []\n",
        "        self.tweetText = []\n",
        "    def DownloadData(self):\n",
        "            # authenticating\n",
        "            consumerKey = 'kZmyapVkkyFtDDlHsTKgJfOeX'\n",
        "            consumerSecret = 'vy4dCJcZsFhD8bnY42HJuM1UGqp5TnN9XemqF0snUfTNuMgFf8'\n",
        "            accessToken = '713777099-g1HaDccimTlntrDQqsSrMCWo2ciAmTZyRTXJ8Rvw'\n",
        "            accessTokenSecret ='jfDHOjqXOjEj18Y4oH7qutD5Te0uwMne6NNjVSnkgRknU'\n",
        "            auth = tweepy.OAuthHandler(consumerKey, consumerSecret)\n",
        "            auth.set_access_token(accessToken, accessTokenSecret)\n",
        "            #api = tweepy.API(auth)\n",
        "            api = tweepy.API(auth, wait_on_rate_limit=True)\n",
        "\n",
        "            # input for term to be searched and how many tweets to search\n",
        "            searchTerm = input(\"Enter Keyword/Tag to search about: \")\n",
        "            NoOfTerms = int(input(\"Enter how many tweets to search: \"))\n",
        "\n",
        "            # searching for tweets\n",
        "            self.tweets = tweepy.Cursor(api.search, q=searchTerm, lang = \"en\").items(NoOfTerms)\n",
        "\n",
        "            # Open/create a file to append data to\n",
        "            csvFile = open('result.csv', 'a')\n",
        "\n",
        "            # Use csv writer\n",
        "            csvWriter = csv.writer(csvFile)\n",
        "\n",
        "\n",
        "            # creating some variables to store info\n",
        "            polarity = 0\n",
        "            positive = 0\n",
        "            negative = 0\n",
        "            neutral = 0\n",
        "\n",
        "\n",
        "            # iterating through tweets fetched\n",
        "            for tweet in self.tweets:\n",
        "                #print(tweet.text)\n",
        "                #Append to temp so that we can store in csv later. I use encode UTF-8\n",
        "                self.tweetText.append(self.cleanTweet(tweet.text).encode('utf-8'))\n",
        "                # print (tweet.text.translate(non_bmp_map))    #print tweet's text\n",
        "                analysis = TextBlob(tweet.text)\n",
        "                # print(analysis.sentiment)  # print tweet's polarity\n",
        "                polarity += analysis.sentiment.polarity  # adding up polarities to find the average later\n",
        "\n",
        "                if (analysis.sentiment.polarity == 0):  # adding reaction of how people are reacting to find average later\n",
        "                    neutral += 1\n",
        "                elif (analysis.sentiment.polarity > 0):\n",
        "                    positive += 1\n",
        "                elif (analysis.sentiment.polarity < 0):\n",
        "                    negative += 1\n",
        "\n",
        "\n",
        "            # Write to csv and close csv file\n",
        "            csvWriter.writerow(self.tweetText)\n",
        "            csvFile.close()\n",
        "\n",
        "            # finding average of how people are reacting\n",
        "            positive = self.percentage(positive, NoOfTerms)\n",
        "            negative = self.percentage(negative, NoOfTerms)\n",
        "            neutral = self.percentage(neutral, NoOfTerms)\n",
        "\n",
        "            # finding average reaction\n",
        "            polarity = polarity / NoOfTerms\n",
        "\n",
        "            # printing out data\n",
        "            print(\"How people are reacting on \" + searchTerm + \" by analyzing \" + str(NoOfTerms) + \" tweets.\")\n",
        "            #print()\n",
        "            #print(\"General Report: \")\n",
        "\n",
        "           # if (polarity == 0):\n",
        "            #    print(\"Neutral\")\n",
        "           # elif (polarity < 0):\n",
        "            #    print(\"Negative\")\n",
        "           # elif (polarity > 0):\n",
        "           #     print(\"Positive\")\n",
        "\n",
        "            print()\n",
        "            print(\"Detailed Report: \")\n",
        "            print(str(positive) + \"% people thought it was positive\")\n",
        "            print(str(negative) + \"% people thought it was negative\")\n",
        "            print(str(neutral) + \"% people thought it was neutral\")\n",
        "\n",
        "            self.plotPieChart(positive, negative, neutral, searchTerm, NoOfTerms)\n",
        "\n",
        "    def cleanTweet(self, tweet):\n",
        "            # Remove Links, Special Characters etc from tweet\n",
        "        return ' '.join(re.sub(\"(@[A-Za-z0-9]+)|([^0-9A-Za-z \\t]) | (\\w +:\\ / \\ / \\S +)\", \" \", tweet).split())\n",
        "\n",
        "        # function to calculate percentage\n",
        "    def percentage(self, part, whole):\n",
        "        temp = 100 * float(part) / float(whole)\n",
        "        return format(temp, '.2f')\n",
        "\n",
        "    def plotPieChart(self, positive, negative, neutral, searchTerm, noOfSearchTerms):\n",
        "        labels = ['Positive [' + str(positive) + '%]','Neutral [' + str(neutral) + '%]','Negative [' + str(negative) + '%]']\n",
        "        sizes = [positive,neutral, negative]\n",
        "        colors = ['yellowgreen', 'gold', 'red']\n",
        "        patches, texts = plt.pie(sizes, colors=colors, startangle=90)\n",
        "        plt.legend(patches, labels, loc=\"best\")\n",
        "        plt.title('How people are reacting on ' + searchTerm + ' by analyzing ' + str(noOfSearchTerms) + ' Tweets.')\n",
        "        plt.axis('equal')\n",
        "        plt.tight_layout()\n",
        "        plt.show()\n",
        "\n"
      ],
      "execution_count": 0,
      "outputs": []
    },
    {
      "cell_type": "code",
      "metadata": {
        "id": "NUXBXUN_zODd",
        "colab_type": "code",
        "colab": {
          "base_uri": "https://localhost:8080/",
          "height": 431
        },
        "outputId": "b85f3f93-1049-4887-b687-535cc8f436a6"
      },
      "source": [
        "if __name__== \"__main__\":\n",
        "    sa = SentimentAnalysis()\n",
        "    sa.DownloadData()\n"
      ],
      "execution_count": 7,
      "outputs": [
        {
          "output_type": "stream",
          "text": [
            "Enter Keyword/Tag to search about: rohit sharma\n",
            "Enter how many tweets to search: 5\n",
            "How people are reacting on rohit sharma by analyzing 5 tweets.\n",
            "\n",
            "Detailed Report: \n",
            "20.00% people thought it was positive\n",
            "0.00% people thought it was negative\n",
            "80.00% people thought it was neutral\n"
          ],
          "name": "stdout"
        },
        {
          "output_type": "display_data",
          "data": {
            "image/png": "[encoded data removed]",
            "text/plain": [
              "<Figure size 432x288 with 1 Axes>"
            ]
          },
          "metadata": {
            "tags": []
          }
        }
      ]
    },
    {
      "cell_type": "code",
      "metadata": {
        "id": "a5Ftq-uuzODi",
        "colab_type": "code",
        "colab": {}
      },
      "source": [
        ""
      ],
      "execution_count": 0,
      "outputs": []
    },
    {
      "cell_type": "code",
      "metadata": {
        "id": "pMsUH32yzODl",
        "colab_type": "code",
        "colab": {}
      },
      "source": [
        ""
      ],
      "execution_count": 0,
      "outputs": []
    }
  ]
}